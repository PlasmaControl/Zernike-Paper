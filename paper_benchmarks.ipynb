{
 "cells": [
  {
   "cell_type": "code",
   "execution_count": 1,
   "metadata": {},
   "outputs": [
    {
     "name": "stdout",
     "output_type": "stream",
     "text": [
      "using JAX backend, jax version=0.4.28, jaxlib version=0.4.28, dtype=float64\n",
      "Using device: CPU, with 10.28 GB available memory\n"
     ]
    }
   ],
   "source": [
    "import sys\n",
    "import os\n",
    "import numpy as np\n",
    "import matplotlib.pyplot as plt \n",
    "import mpmath\n",
    "import timeit\n",
    "\n",
    "sys.path.insert(0, os.path.abspath(\".\"))\n",
    "sys.path.append(os.path.abspath(\"./ZERN/\"))\n",
    "\n",
    "from zern.zern_core import Zernike\n",
    "import numpy as np\n",
    "\n",
    "sys.path.insert(0, os.path.abspath(\".\"))\n",
    "sys.path.append(os.path.abspath(\"./zernike/\"))\n",
    "from zernike import RZern\n",
    "\n",
    "sys.path.insert(0, os.path.abspath(\".\"))\n",
    "sys.path.append(os.path.abspath(\"./zernpy/src/\"))\n",
    "from zernpy import ZernPol\n",
    "\n",
    "from zernipax.basis import ZernikePolynomial\n",
    "from zernipax.zernike import *\n",
    "from zernipax.plotting import plot_comparison\n",
    "from zernipax.backend import jax\n",
    "from tqdm import tqdm"
   ]
  },
  {
   "cell_type": "code",
   "execution_count": null,
   "metadata": {},
   "outputs": [],
   "source": [
    "res = 50\n",
    "basis = ZernikePolynomial(L=res, M=res, spectral_indexing=\"ansi\", sym=\"cos\")\n",
    "ms = basis.modes[:,1]\n",
    "ns = basis.modes[:,0]\n",
    "r = np.linspace(0, 1, 100)"
   ]
  },
  {
   "cell_type": "code",
   "execution_count": null,
   "metadata": {},
   "outputs": [],
   "source": [
    "def fun_zernipax_clear(ns, ms, r):\n",
    "    jax.clear_caches()\n",
    "    return zernike_radial(r, ns, ms, 0)\n",
    "\n",
    "def fun_zernipax(ns, ms, r):\n",
    "    return zernike_radial(r, ns, ms, 0)\n",
    "\n",
    "# %timeit fun_zernipax(ns, ms, r).block_until_ready()\n",
    "# %timeit fun_zernipax_clear(ns, ms, r).block_until_ready()\n",
    "all_zernipax = fun_zernipax(ns, ms, r)"
   ]
  },
  {
   "cell_type": "code",
   "execution_count": null,
   "metadata": {},
   "outputs": [],
   "source": [
    "def fun_zern(ns, ms, r):\n",
    "    zern = Zernike(0)\n",
    "    all = []\n",
    "    for i in range(len(ms)): \n",
    "        all.append(zern.R_nm_Jacobi(int(ns[i]), int(ms[i]), r))\n",
    "\n",
    "    return np.array(all)\n",
    "\n",
    "all_zern = fun_zern(ns, ms, r).T"
   ]
  },
  {
   "cell_type": "code",
   "execution_count": null,
   "metadata": {},
   "outputs": [],
   "source": [
    "def get_Noll(n, m):\n",
    "    j = n*(n+1)//2 + abs(m)\n",
    "    if m >= 0 and (n%4 == 2 or n%4 == 3):\n",
    "        j += 1\n",
    "    elif m <= 0 and (n%4 == 0 or n%4 == 1):\n",
    "        j += 1\n",
    "    return j\n",
    "\n",
    "def fun_zernike(ns, ms, r):\n",
    "    all = []\n",
    "    cart = RZern(int(max(ns)))\n",
    "    for i in range(len(ms)):\n",
    "        id_Noll = get_Noll(ns[i], ms[i]) - 1\n",
    "        all.append(cart.Rnm(id_Noll, r))\n",
    "\n",
    "    return np.array(all)\n",
    "\n",
    "all_zernike = fun_zernike(ns, ms, r).T"
   ]
  },
  {
   "cell_type": "code",
   "execution_count": null,
   "metadata": {},
   "outputs": [],
   "source": [
    "def fun_zernpy(ns, ms, r):\n",
    "    all = []\n",
    "    for i in range(len(ms)):\n",
    "        zp = ZernPol(m=int(ms[i]), n=int(ns[i]))   \n",
    "        all.append(zp.radial(r))\n",
    "\n",
    "    return np.array(all)\n",
    "\n",
    "all_zernpy = fun_zernpy(ns, ms, r).T"
   ]
  },
  {
   "cell_type": "code",
   "execution_count": null,
   "metadata": {},
   "outputs": [],
   "source": [
    "# Exact computation\n",
    "mpmath.mp.dps = 100\n",
    "def fun_exact(ns, ms, r):\n",
    "    c = zernike_radial_coeffs(ns, ms, exact=True)\n",
    "    zt0 = np.array([np.asarray(mpmath.polyval(list(ci), r), dtype=float) for ci in c]).T\n",
    "    return zt0\n",
    "\n",
    "exact = fun_exact(ns, ms, r)"
   ]
  },
  {
   "cell_type": "code",
   "execution_count": null,
   "metadata": {},
   "outputs": [],
   "source": [
    "plot_comparison(\n",
    "    exact, \n",
    "    (all_zernipax, all_zern),\n",
    "    basis, \n",
    "    dx=0, \n",
    "    type=\"absolute\", \n",
    "    names=(\"Zernipax:\", \"Zern:\"), \n",
    "    print_error=True\n",
    ")"
   ]
  },
  {
   "cell_type": "code",
   "execution_count": null,
   "metadata": {},
   "outputs": [],
   "source": [
    "plot_comparison(\n",
    "    exact, \n",
    "    (all_zernipax, all_zern, all_zernike, all_zernpy),\n",
    "    basis, \n",
    "    dx=0, \n",
    "    type=\"absolute\", \n",
    "    names=(\"Zernipax:\", \"Zern:\", \"Zernike:\", \"Zernpy:\"), \n",
    "    print_error=True\n",
    ")\n",
    "plt.savefig(\"comparison_all.png\", dpi=1000)"
   ]
  },
  {
   "cell_type": "code",
   "execution_count": null,
   "metadata": {},
   "outputs": [],
   "source": [
    "print(\"Time for ZERN:\")\n",
    "%timeit fun_zern(ns, ms, r);\n",
    "print(\"Time for ZERNIKE:\")\n",
    "%timeit fun_zernike(ns, ms, r);\n",
    "# print(\"Time for ZERNPY:\")\n",
    "# %timeit fun_zernpy(ns, ms, r);\n",
    "print(\"Time for ZERNIPAX:\")\n",
    "%timeit fun_zernipax(ns, ms, r).block_until_ready();"
   ]
  },
  {
   "cell_type": "code",
   "execution_count": null,
   "metadata": {},
   "outputs": [],
   "source": [
    "r = np.linspace(0, 1, 100)\n",
    "times = []\n",
    "num_exec = 100\n",
    "range_res = np.arange(10, 101, 5)\n",
    "\n",
    "for res in tqdm(range_res):\n",
    "    basis = ZernikePolynomial(L=res, M=res, spectral_indexing=\"ansi\", sym=\"cos\")\n",
    "    ms = basis.modes[:,1]\n",
    "    ns = basis.modes[:,0]\n",
    "    _ = fun_zernipax(ns, ms, r) # run to compile it once\n",
    "\n",
    "    t1 = timeit.timeit(lambda: fun_zern(ns, ms, r), number=num_exec)\n",
    "    t2 = timeit.timeit(lambda: fun_zernike(ns, ms, r), number=num_exec)\n",
    "    t3 = timeit.timeit(lambda: fun_zernipax(ns, ms, r).block_until_ready(), number=num_exec)\n",
    "    t4 = timeit.timeit(lambda: fun_zernipax_clear(ns, ms, r).block_until_ready(), number=num_exec)\n",
    "\n",
    "    times.append([t1, t2, t3, t4])\n",
    "times = np.array(times)*1000/num_exec"
   ]
  },
  {
   "cell_type": "code",
   "execution_count": null,
   "metadata": {
    "scrolled": false
   },
   "outputs": [],
   "source": [
    "plt.plot(range_res, times[:,0], label=\"ZERN\")\n",
    "plt.plot(range_res, times[:,1], label=\"ZERNIKE\")\n",
    "plt.plot(range_res, times[:,2], label=\"ZERNIPAX\")\n",
    "plt.plot(range_res, times[:,3], label=\"ZERNIPAX-Compile\")\n",
    "# plt.plot(range_res, 0.001*range_res**3, label=\"order\")\n",
    "plt.xlabel(\"Resolution\")\n",
    "plt.ylabel(\"Time (ms)\")\n",
    "plt.title(\"Time Comparison of Computation of Radial Zernike Polynomials\")\n",
    "plt.grid()\n",
    "plt.legend()\n",
    "plt.savefig(\"time_comparison_compile.pdf\", dpi=1000)"
   ]
  },
  {
   "cell_type": "code",
   "execution_count": null,
   "metadata": {},
   "outputs": [],
   "source": [
    "plt.plot(range_res, times[:,2], label=\"ZERNIPAX\")\n",
    "# plt.plot(range_res, 0.00003*range_res**3, label=\"order\")\n",
    "plt.xlabel(\"Resolution\")\n",
    "plt.ylabel(\"Time (ms)\")\n",
    "plt.title(\"Computation Time of Radial Zernike Polynomials in ZERNIPAX\")\n",
    "plt.grid()\n",
    "plt.legend()\n",
    "plt.savefig(\"time_zernipax.pdf\", dpi=1000)"
   ]
  },
  {
   "cell_type": "code",
   "execution_count": 2,
   "metadata": {},
   "outputs": [],
   "source": [
    "# Exact computation\n",
    "def fun_exact_prec(ns, ms, r, prec):\n",
    "    mpmath.mp.dps = prec \n",
    "    c = zernike_radial_coeffs(ns, ms, exact=True)\n",
    "    zt0 = np.array([np.asarray(mpmath.polyval(list(ci), r), dtype=float) for ci in c]).T\n",
    "    return zt0"
   ]
  },
  {
   "cell_type": "code",
   "execution_count": 3,
   "metadata": {},
   "outputs": [],
   "source": [
    "range_prec = np.arange(20, 41, 5)\n",
    "res = 100\n",
    "basis = ZernikePolynomial(L=res, M=res, spectral_indexing=\"ansi\", sym=\"cos\")\n",
    "ms = basis.modes[:,1]\n",
    "ns = basis.modes[:,0]\n",
    "r = np.linspace(0, 1, 100)\n",
    "# diff = []\n",
    "# val_old = fun_exact_prec(ns, ms, r, 100)\n",
    "# for prec in tqdm(range_prec):\n",
    "#     val = fun_exact_prec(ns, ms, r, prec)\n",
    "#     diff.append(np.max(val - val_old))\n",
    "# diff = np.array(diff)"
   ]
  },
  {
   "cell_type": "code",
   "execution_count": null,
   "metadata": {},
   "outputs": [],
   "source": [
    "plt.plot(range_prec, diff)"
   ]
  },
  {
   "cell_type": "code",
   "execution_count": 41,
   "metadata": {},
   "outputs": [
    {
     "name": "stdout",
     "output_type": "stream",
     "text": [
      "5.19999999999999999999999999999999999999999999999999\n",
      "5.2\n"
     ]
    }
   ],
   "source": [
    "def fun_random(prec):\n",
    "    mpmath.mp.dps = prec\n",
    "    a = mpmath.mpf('1e-50')\n",
    "    b = mpmath.mpf('5.2')\n",
    "    return mpmath.fsub(b, a)\n",
    "\n",
    "print(fun_random(200))\n",
    "print(5.2-1e-50)"
   ]
  },
  {
   "cell_type": "code",
   "execution_count": 45,
   "metadata": {},
   "outputs": [
    {
     "name": "stdout",
     "output_type": "stream",
     "text": [
      "Decimal places of precision (dps): 8\n",
      "Bit precision (prec): 30\n"
     ]
    }
   ],
   "source": [
    "mpmath.mp.dps = 8\n",
    "print(\"Decimal places of precision (dps):\", mpmath.mp.dps)\n",
    "print(\"Bit precision (prec):\", mpmath.mp.prec)"
   ]
  },
  {
   "cell_type": "code",
   "execution_count": 42,
   "metadata": {},
   "outputs": [],
   "source": [
    "array = np.array([[1.5, 2.5, 3.5], [4.5, 5.5, 6.5]])\n",
    "\n",
    "# Save the array to a text file\n",
    "np.savetxt('my_array.txt', array)\n",
    "\n",
    "# Load the array from the text file\n",
    "loaded_array = np.loadtxt('my_array.txt')"
   ]
  },
  {
   "cell_type": "code",
   "execution_count": 43,
   "metadata": {},
   "outputs": [
    {
     "name": "stdout",
     "output_type": "stream",
     "text": [
      "[[1.5 2.5 3.5]\n",
      " [4.5 5.5 6.5]]\n"
     ]
    }
   ],
   "source": [
    "print(loaded_array)"
   ]
  }
 ],
 "metadata": {
  "kernelspec": {
   "display_name": "desc-env",
   "language": "python",
   "name": "python3"
  },
  "language_info": {
   "codemirror_mode": {
    "name": "ipython",
    "version": 3
   },
   "file_extension": ".py",
   "mimetype": "text/x-python",
   "name": "python",
   "nbconvert_exporter": "python",
   "pygments_lexer": "ipython3",
   "version": "3.12.0"
  }
 },
 "nbformat": 4,
 "nbformat_minor": 2
}
