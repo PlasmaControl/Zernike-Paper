{
 "cells": [
  {
   "cell_type": "code",
   "execution_count": 1,
   "metadata": {},
   "outputs": [
    {
     "name": "stdout",
     "output_type": "stream",
     "text": [
      "using JAX backend, jax version=0.4.28, jaxlib version=0.4.28, dtype=float64\n",
      "Using device: CPU, with 6.29 GB available memory\n"
     ]
    }
   ],
   "source": [
    "import sys\n",
    "import os\n",
    "import numpy as np\n",
    "import matplotlib.pyplot as plt \n",
    "import mpmath\n",
    "import timeit\n",
    "\n",
    "sys.path.insert(0, os.path.abspath(\".\"))\n",
    "sys.path.append(os.path.abspath(\"./ZERN/\"))\n",
    "\n",
    "from zern.zern_core import Zernike\n",
    "import numpy as np\n",
    "\n",
    "sys.path.insert(0, os.path.abspath(\".\"))\n",
    "sys.path.append(os.path.abspath(\"./zernike/\"))\n",
    "from zernike import RZern\n",
    "\n",
    "sys.path.insert(0, os.path.abspath(\".\"))\n",
    "sys.path.append(os.path.abspath(\"./zernpy/src/\"))\n",
    "from zernpy import ZernPol\n",
    "\n",
    "from zernipax.basis import ZernikePolynomial\n",
    "from zernipax.zernike import *\n",
    "from zernipax.plotting import plot_comparison\n",
    "from zernipax.backend import jax\n",
    "from tqdm import tqdm"
   ]
  },
  {
   "cell_type": "code",
   "execution_count": 2,
   "metadata": {},
   "outputs": [],
   "source": [
    "res = 50\n",
    "basis = ZernikePolynomial(L=res, M=res, spectral_indexing=\"ansi\", sym=\"cos\")\n",
    "ms = basis.modes[:,1]\n",
    "ns = basis.modes[:,0]\n",
    "r = np.linspace(0, 1, 100)"
   ]
  },
  {
   "cell_type": "code",
   "execution_count": null,
   "metadata": {},
   "outputs": [],
   "source": [
    "def fun_zernipax_clear(ns, ms, r):\n",
    "    jax.clear_caches()\n",
    "    return zernike_radial(r, ns, ms, 0)\n",
    "\n",
    "def fun_zernipax(ns, ms, r):\n",
    "    return zernike_radial(r, ns, ms, 0)\n",
    "\n",
    "# %timeit fun_zernipax(ns, ms, r).block_until_ready()\n",
    "# %timeit fun_zernipax_clear(ns, ms, r).block_until_ready()\n",
    "all_zernipax = fun_zernipax(ns, ms, r)"
   ]
  },
  {
   "cell_type": "code",
   "execution_count": null,
   "metadata": {},
   "outputs": [],
   "source": [
    "def fun_zern(ns, ms, r):\n",
    "    zern = Zernike(0)\n",
    "    all = []\n",
    "    for i in range(len(ms)): \n",
    "        all.append(zern.R_nm_Jacobi(int(ns[i]), int(ms[i]), r))\n",
    "\n",
    "    return np.array(all)\n",
    "\n",
    "all_zern = fun_zern(ns, ms, r).T"
   ]
  },
  {
   "cell_type": "code",
   "execution_count": null,
   "metadata": {},
   "outputs": [],
   "source": [
    "def get_Noll(n, m):\n",
    "    j = n*(n+1)//2 + abs(m)\n",
    "    if m >= 0 and (n%4 == 2 or n%4 == 3):\n",
    "        j += 1\n",
    "    elif m <= 0 and (n%4 == 0 or n%4 == 1):\n",
    "        j += 1\n",
    "    return j\n",
    "\n",
    "def fun_zernike(ns, ms, r):\n",
    "    all = []\n",
    "    cart = RZern(int(max(ns)))\n",
    "    for i in range(len(ms)):\n",
    "        id_Noll = get_Noll(ns[i], ms[i]) - 1\n",
    "        all.append(cart.Rnm(id_Noll, r))\n",
    "\n",
    "    return np.array(all)\n",
    "\n",
    "all_zernike = fun_zernike(ns, ms, r).T"
   ]
  },
  {
   "cell_type": "code",
   "execution_count": null,
   "metadata": {},
   "outputs": [],
   "source": [
    "def fun_zernpy(ns, ms, r):\n",
    "    all = []\n",
    "    for i in range(len(ms)):\n",
    "        zp = ZernPol(m=int(ms[i]), n=int(ns[i]))   \n",
    "        all.append(zp.radial(r))\n",
    "\n",
    "    return np.array(all)\n",
    "\n",
    "all_zernpy = fun_zernpy(ns, ms, r).T"
   ]
  },
  {
   "cell_type": "code",
   "execution_count": null,
   "metadata": {},
   "outputs": [],
   "source": [
    "# Exact computation\n",
    "mpmath.mp.dps = 100\n",
    "def fun_exact(ns, ms, r):\n",
    "    c = zernike_radial_coeffs(ns, ms, exact=True)\n",
    "    zt0 = np.array([np.asarray(mpmath.polyval(list(ci), r), dtype=float) for ci in c]).T\n",
    "    return zt0\n",
    "\n",
    "exact = fun_exact(ns, ms, r)"
   ]
  },
  {
   "cell_type": "code",
   "execution_count": null,
   "metadata": {},
   "outputs": [],
   "source": [
    "plot_comparison(\n",
    "    exact, \n",
    "    (all_zernipax, all_zern),\n",
    "    basis, \n",
    "    dx=0, \n",
    "    type=\"absolute\", \n",
    "    names=(\"Zernipax:\", \"Zern:\"), \n",
    "    print_error=True\n",
    ")"
   ]
  },
  {
   "cell_type": "code",
   "execution_count": null,
   "metadata": {},
   "outputs": [],
   "source": [
    "plot_comparison(\n",
    "    exact, \n",
    "    (all_zernipax, all_zern, all_zernike, all_zernpy),\n",
    "    basis, \n",
    "    dx=0, \n",
    "    type=\"absolute\", \n",
    "    names=(\"Zernipax:\", \"Zern:\", \"Zernike:\", \"Zernpy:\"), \n",
    "    print_error=True\n",
    ")\n",
    "plt.savefig(\"comparison_all.png\", dpi=1000)"
   ]
  },
  {
   "cell_type": "code",
   "execution_count": null,
   "metadata": {},
   "outputs": [],
   "source": [
    "print(\"Time for ZERN:\")\n",
    "%timeit fun_zern(ns, ms, r);\n",
    "print(\"Time for ZERNIKE:\")\n",
    "%timeit fun_zernike(ns, ms, r);\n",
    "# print(\"Time for ZERNPY:\")\n",
    "# %timeit fun_zernpy(ns, ms, r);\n",
    "print(\"Time for ZERNIPAX:\")\n",
    "%timeit fun_zernipax(ns, ms, r).block_until_ready();"
   ]
  },
  {
   "cell_type": "code",
   "execution_count": null,
   "metadata": {},
   "outputs": [],
   "source": [
    "r = np.linspace(0, 1, 100)\n",
    "times = []\n",
    "num_exec = 100\n",
    "range_res = np.arange(10, 101, 5)\n",
    "\n",
    "for res in tqdm(range_res):\n",
    "    basis = ZernikePolynomial(L=res, M=res, spectral_indexing=\"ansi\", sym=\"cos\")\n",
    "    ms = basis.modes[:,1]\n",
    "    ns = basis.modes[:,0]\n",
    "    _ = fun_zernipax(ns, ms, r) # run to compile it once\n",
    "\n",
    "    t1 = timeit.timeit(lambda: fun_zern(ns, ms, r), number=num_exec)\n",
    "    t2 = timeit.timeit(lambda: fun_zernike(ns, ms, r), number=num_exec)\n",
    "    t3 = timeit.timeit(lambda: fun_zernipax(ns, ms, r).block_until_ready(), number=num_exec)\n",
    "    t4 = timeit.timeit(lambda: fun_zernipax_clear(ns, ms, r).block_until_ready(), number=num_exec)\n",
    "\n",
    "    times.append([t1, t2, t3, t4])\n",
    "times = np.array(times)*1000/num_exec"
   ]
  },
  {
   "cell_type": "code",
   "execution_count": null,
   "metadata": {
    "scrolled": false
   },
   "outputs": [],
   "source": [
    "plt.plot(range_res, times[:,0], label=\"ZERN\")\n",
    "plt.plot(range_res, times[:,1], label=\"ZERNIKE\")\n",
    "plt.plot(range_res, times[:,2], label=\"ZERNIPAX\")\n",
    "plt.plot(range_res, times[:,3], label=\"ZERNIPAX-Compile\")\n",
    "# plt.plot(range_res, 0.001*range_res**3, label=\"order\")\n",
    "plt.xlabel(\"Resolution\")\n",
    "plt.ylabel(\"Time (ms)\")\n",
    "plt.title(\"Time Comparison of Computation of Radial Zernike Polynomials\")\n",
    "plt.grid()\n",
    "plt.legend()\n",
    "plt.savefig(\"time_comparison_compile.pdf\", dpi=1000)"
   ]
  },
  {
   "cell_type": "code",
   "execution_count": null,
   "metadata": {},
   "outputs": [],
   "source": [
    "plt.plot(range_res, times[:,2], label=\"ZERNIPAX\")\n",
    "# plt.plot(range_res, 0.00003*range_res**3, label=\"order\")\n",
    "plt.xlabel(\"Resolution\")\n",
    "plt.ylabel(\"Time (ms)\")\n",
    "plt.title(\"Computation Time of Radial Zernike Polynomials in ZERNIPAX\")\n",
    "plt.grid()\n",
    "plt.legend()\n",
    "plt.savefig(\"time_zernipax.pdf\", dpi=1000)"
   ]
  },
  {
   "cell_type": "code",
   "execution_count": 5,
   "metadata": {},
   "outputs": [],
   "source": [
    "# Exact computation\n",
    "def fun_exact_prec(ns, ms, r, prec):\n",
    "    mpmath.mp.dps = prec \n",
    "    c = zernike_radial_coeffs(ns, ms, exact=True)\n",
    "    zt0 = np.array([np.asarray(mpmath.polyval(list(ci), r), dtype=float) for ci in c]).T\n",
    "    return zt0"
   ]
  },
  {
   "cell_type": "code",
   "execution_count": 17,
   "metadata": {},
   "outputs": [
    {
     "name": "stderr",
     "output_type": "stream",
     "text": [
      " 60%|██████    | 3/5 [38:32<25:41, 770.76s/it]\n"
     ]
    },
    {
     "ename": "KeyboardInterrupt",
     "evalue": "",
     "output_type": "error",
     "traceback": [
      "\u001b[0;31m---------------------------------------------------------------------------\u001b[0m",
      "\u001b[0;31mKeyboardInterrupt\u001b[0m                         Traceback (most recent call last)",
      "Cell \u001b[0;32mIn[17], line 10\u001b[0m\n\u001b[1;32m      8\u001b[0m val_old \u001b[38;5;241m=\u001b[39m fun_exact_prec(ns, ms, r, \u001b[38;5;241m100\u001b[39m)\n\u001b[1;32m      9\u001b[0m \u001b[38;5;28;01mfor\u001b[39;00m prec \u001b[38;5;129;01min\u001b[39;00m tqdm(range_prec):\n\u001b[0;32m---> 10\u001b[0m     val \u001b[38;5;241m=\u001b[39m \u001b[43mfun_exact_prec\u001b[49m\u001b[43m(\u001b[49m\u001b[43mns\u001b[49m\u001b[43m,\u001b[49m\u001b[43m \u001b[49m\u001b[43mms\u001b[49m\u001b[43m,\u001b[49m\u001b[43m \u001b[49m\u001b[43mr\u001b[49m\u001b[43m,\u001b[49m\u001b[43m \u001b[49m\u001b[43mprec\u001b[49m\u001b[43m)\u001b[49m\n\u001b[1;32m     11\u001b[0m     diff\u001b[38;5;241m.\u001b[39mappend(np\u001b[38;5;241m.\u001b[39mmax(val \u001b[38;5;241m-\u001b[39m val_old))\n\u001b[1;32m     12\u001b[0m diff \u001b[38;5;241m=\u001b[39m np\u001b[38;5;241m.\u001b[39marray(diff)\n",
      "Cell \u001b[0;32mIn[5], line 5\u001b[0m, in \u001b[0;36mfun_exact_prec\u001b[0;34m(ns, ms, r, prec)\u001b[0m\n\u001b[1;32m      3\u001b[0m mpmath\u001b[38;5;241m.\u001b[39mmp\u001b[38;5;241m.\u001b[39mdps \u001b[38;5;241m=\u001b[39m prec \n\u001b[1;32m      4\u001b[0m c \u001b[38;5;241m=\u001b[39m zernike_radial_coeffs(ns, ms, exact\u001b[38;5;241m=\u001b[39m\u001b[38;5;28;01mTrue\u001b[39;00m)\n\u001b[0;32m----> 5\u001b[0m zt0 \u001b[38;5;241m=\u001b[39m np\u001b[38;5;241m.\u001b[39marray([np\u001b[38;5;241m.\u001b[39masarray(\u001b[43mmpmath\u001b[49m\u001b[38;5;241;43m.\u001b[39;49m\u001b[43mpolyval\u001b[49m\u001b[43m(\u001b[49m\u001b[38;5;28;43mlist\u001b[39;49m\u001b[43m(\u001b[49m\u001b[43mci\u001b[49m\u001b[43m)\u001b[49m\u001b[43m,\u001b[49m\u001b[43m \u001b[49m\u001b[43mr\u001b[49m\u001b[43m)\u001b[49m, dtype\u001b[38;5;241m=\u001b[39m\u001b[38;5;28mfloat\u001b[39m) \u001b[38;5;28;01mfor\u001b[39;00m ci \u001b[38;5;129;01min\u001b[39;00m c])\u001b[38;5;241m.\u001b[39mT\n\u001b[1;32m      6\u001b[0m \u001b[38;5;28;01mreturn\u001b[39;00m zt0\n",
      "File \u001b[0;32m~/miniconda3/envs/desc-env/lib/python3.12/site-packages/mpmath/calculus/polynomials.py:40\u001b[0m, in \u001b[0;36mpolyval\u001b[0;34m(ctx, coeffs, x, derivative)\u001b[0m\n\u001b[1;32m     38\u001b[0m     \u001b[38;5;28;01mif\u001b[39;00m derivative:\n\u001b[1;32m     39\u001b[0m         q \u001b[38;5;241m=\u001b[39m p \u001b[38;5;241m+\u001b[39m x\u001b[38;5;241m*\u001b[39mq\n\u001b[0;32m---> 40\u001b[0m     p \u001b[38;5;241m=\u001b[39m c \u001b[38;5;241m+\u001b[39m \u001b[43mx\u001b[49m\u001b[38;5;241;43m*\u001b[39;49m\u001b[43mp\u001b[49m\n\u001b[1;32m     41\u001b[0m \u001b[38;5;28;01mif\u001b[39;00m derivative:\n\u001b[1;32m     42\u001b[0m     \u001b[38;5;28;01mreturn\u001b[39;00m p, q\n",
      "File \u001b[0;32m<string>:13\u001b[0m, in \u001b[0;36m__mul__\u001b[0;34m(self, other)\u001b[0m\n",
      "File \u001b[0;32m~/miniconda3/envs/desc-env/lib/python3.12/site-packages/mpmath/libmp/libmpf.py:894\u001b[0m, in \u001b[0;36mpython_mpf_mul\u001b[0;34m(s, t, prec, rnd)\u001b[0m\n\u001b[1;32m    892\u001b[0m bc \u001b[38;5;241m+\u001b[39m\u001b[38;5;241m=\u001b[39m \u001b[38;5;28mint\u001b[39m(man\u001b[38;5;241m>>\u001b[39mbc)\n\u001b[1;32m    893\u001b[0m \u001b[38;5;28;01mif\u001b[39;00m prec:\n\u001b[0;32m--> 894\u001b[0m     \u001b[38;5;28;01mreturn\u001b[39;00m \u001b[43mnormalize1\u001b[49m\u001b[43m(\u001b[49m\u001b[43msign\u001b[49m\u001b[43m,\u001b[49m\u001b[43m \u001b[49m\u001b[43mman\u001b[49m\u001b[43m,\u001b[49m\u001b[43m \u001b[49m\u001b[43msexp\u001b[49m\u001b[38;5;241;43m+\u001b[39;49m\u001b[43mtexp\u001b[49m\u001b[43m,\u001b[49m\u001b[43m \u001b[49m\u001b[43mbc\u001b[49m\u001b[43m,\u001b[49m\u001b[43m \u001b[49m\u001b[43mprec\u001b[49m\u001b[43m,\u001b[49m\u001b[43m \u001b[49m\u001b[43mrnd\u001b[49m\u001b[43m)\u001b[49m\n\u001b[1;32m    895\u001b[0m \u001b[38;5;28;01melse\u001b[39;00m:\n\u001b[1;32m    896\u001b[0m     \u001b[38;5;28;01mreturn\u001b[39;00m (sign, man, sexp\u001b[38;5;241m+\u001b[39mtexp, bc)\n",
      "File \u001b[0;32m~/miniconda3/envs/desc-env/lib/python3.12/site-packages/mpmath/libmp/libmpf.py:208\u001b[0m, in \u001b[0;36m_normalize1\u001b[0;34m(sign, man, exp, bc, prec, rnd)\u001b[0m\n\u001b[1;32m    205\u001b[0m         bc \u001b[38;5;241m=\u001b[39m \u001b[38;5;241m1\u001b[39m\n\u001b[1;32m    206\u001b[0m     \u001b[38;5;28;01mreturn\u001b[39;00m sign, man, exp, bc\n\u001b[0;32m--> 208\u001b[0m \u001b[38;5;28;01mdef\u001b[39;00m \u001b[38;5;21m_normalize1\u001b[39m(sign, man, exp, bc, prec, rnd):\n\u001b[1;32m    209\u001b[0m \u001b[38;5;250m    \u001b[39m\u001b[38;5;124;03m\"\"\"same as normalize, but with the added condition that\u001b[39;00m\n\u001b[1;32m    210\u001b[0m \u001b[38;5;124;03m       man is odd or zero\u001b[39;00m\n\u001b[1;32m    211\u001b[0m \u001b[38;5;124;03m    \"\"\"\u001b[39;00m\n\u001b[1;32m    212\u001b[0m     \u001b[38;5;28;01mif\u001b[39;00m \u001b[38;5;129;01mnot\u001b[39;00m man:\n",
      "\u001b[0;31mKeyboardInterrupt\u001b[0m: "
     ]
    }
   ],
   "source": [
    "range_prec = np.arange(20, 41, 5)\n",
    "res = 200\n",
    "basis = ZernikePolynomial(L=res, M=res, spectral_indexing=\"ansi\", sym=\"cos\")\n",
    "ms = basis.modes[:,1]\n",
    "ns = basis.modes[:,0]\n",
    "r = np.linspace(0, 1, 100)\n",
    "diff = []\n",
    "val_old = fun_exact_prec(ns, ms, r, 100)\n",
    "for prec in tqdm(range_prec):\n",
    "    val = fun_exact_prec(ns, ms, r, prec)\n",
    "    diff.append(np.max(val - val_old))\n",
    "diff = np.array(diff)"
   ]
  },
  {
   "cell_type": "code",
   "execution_count": 16,
   "metadata": {},
   "outputs": [
    {
     "data": {
      "text/plain": [
       "[<matplotlib.lines.Line2D at 0x7aad5048fb60>]"
      ]
     },
     "execution_count": 16,
     "metadata": {},
     "output_type": "execute_result"
    },
    {
     "data": {
      "image/png": "[encoded data removed]",
      "text/plain": [
       "<Figure size 640x480 with 1 Axes>"
      ]
     },
     "metadata": {},
     "output_type": "display_data"
    }
   ],
   "source": [
    "plt.plot(range_prec, diff)"
   ]
  },
  {
   "cell_type": "code",
   "execution_count": 13,
   "metadata": {},
   "outputs": [
    {
     "data": {
      "text/plain": [
       "array([2.87300140e+15, 1.27620305e-05, 0.00000000e+00])"
      ]
     },
     "execution_count": 13,
     "metadata": {},
     "output_type": "execute_result"
    }
   ],
   "source": [
    "diff"
   ]
  },
  {
   "cell_type": "code",
   "execution_count": null,
   "metadata": {},
   "outputs": [],
   "source": []
  }
 ],
 "metadata": {
  "kernelspec": {
   "display_name": "desc-env",
   "language": "python",
   "name": "python3"
  },
  "language_info": {
   "codemirror_mode": {
    "name": "ipython",
    "version": 3
   },
   "file_extension": ".py",
   "mimetype": "text/x-python",
   "name": "python",
   "nbconvert_exporter": "python",
   "pygments_lexer": "ipython3",
   "version": "3.12.0"
  }
 },
 "nbformat": 4,
 "nbformat_minor": 2
}
